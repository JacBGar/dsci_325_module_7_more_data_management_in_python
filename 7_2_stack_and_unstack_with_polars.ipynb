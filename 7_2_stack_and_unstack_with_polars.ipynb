{
 "cells": [
  {
   "cell_type": "markdown",
   "id": "2d129329",
   "metadata": {
    "slideshow": {
     "slide_type": "slide"
    }
   },
   "source": [
    "## Colab Prep\n",
    "\n",
    "Execute the following code cells to whenever you open/restart the notebook in Google Colab."
   ]
  },
  {
   "cell_type": "code",
   "execution_count": null,
   "id": "7b375479",
   "metadata": {
    "slideshow": {
     "slide_type": "fragment"
    }
   },
   "outputs": [],
   "source": [
    "!pip install \"polars[all]\""
   ]
  },
  {
   "cell_type": "code",
   "execution_count": null,
   "id": "d188a811",
   "metadata": {
    "scrolled": true,
    "slideshow": {
     "slide_type": "fragment"
    }
   },
   "outputs": [],
   "source": [
    "!wget https://github.com/WSU-DataScience/dsci_325_module_7_more_data_management_in_python/raw/main/sample_data.zip"
   ]
  },
  {
   "cell_type": "code",
   "execution_count": null,
   "id": "311d5379",
   "metadata": {
    "slideshow": {
     "slide_type": "fragment"
    }
   },
   "outputs": [],
   "source": [
    "!unzip ./sample_data.zip"
   ]
  },
  {
   "cell_type": "code",
   "execution_count": null,
   "id": "6e90c0b4",
   "metadata": {
    "slideshow": {
     "slide_type": "fragment"
    }
   },
   "outputs": [],
   "source": [
    "!pip install more_polars"
   ]
  },
  {
   "cell_type": "markdown",
   "id": "96836e2f",
   "metadata": {
    "slideshow": {
     "slide_type": "slide"
    }
   },
   "source": [
    "# Stacking and Unstacking Data"
   ]
  },
  {
   "cell_type": "code",
   "execution_count": 2,
   "id": "8979311e",
   "metadata": {
    "scrolled": true,
    "slideshow": {
     "slide_type": "fragment"
    }
   },
   "outputs": [],
   "source": [
    "import polars as pl"
   ]
  },
  {
   "cell_type": "markdown",
   "id": "67dcdc86",
   "metadata": {
    "slideshow": {
     "slide_type": "slide"
    }
   },
   "source": [
    "## Reshaping data\n",
    "\n",
    "Two ways\n",
    "\n",
    "* We can **stack** data into a *tall* format.\n",
    "* We can **unstack** data into a *long* format."
   ]
  },
  {
   "cell_type": "markdown",
   "id": "36646d1a",
   "metadata": {
    "slideshow": {
     "slide_type": "slide"
    }
   },
   "source": [
    "## (totally real and not at all made-up) Example - Quarterly Auto Sales\n",
    "\n",
    "**Note** the last four columns are\n",
    "\n",
    "* same measurements\n",
    "* same units"
   ]
  },
  {
   "cell_type": "code",
   "execution_count": 3,
   "id": "5278f682",
   "metadata": {
    "slideshow": {
     "slide_type": "fragment"
    }
   },
   "outputs": [
    {
     "data": {
      "text/html": [
       "<div><style>\n",
       ".dataframe > thead > tr,\n",
       ".dataframe > tbody > tr {\n",
       "  text-align: right;\n",
       "  white-space: pre-wrap;\n",
       "}\n",
       "</style>\n",
       "<small>shape: (5, 5)</small><table border=\"1\" class=\"dataframe\"><thead><tr><th>Salesperson</th><th>Compact</th><th>Sedan</th><th>SUV</th><th>Truck</th></tr><tr><td>str</td><td>i64</td><td>i64</td><td>i64</td><td>i64</td></tr></thead><tbody><tr><td>&quot;Ann&quot;</td><td>22</td><td>18</td><td>15</td><td>12</td></tr><tr><td>&quot;Bob&quot;</td><td>19</td><td>12</td><td>17</td><td>20</td></tr><tr><td>&quot;Doug&quot;</td><td>20</td><td>13</td><td>null</td><td>20</td></tr><tr><td>&quot;Yolanda&quot;</td><td>19</td><td>8</td><td>32</td><td>15</td></tr><tr><td>&quot;Xerxes&quot;</td><td>12</td><td>23</td><td>18</td><td>9</td></tr></tbody></table></div>"
      ],
      "text/plain": [
       "shape: (5, 5)\n",
       "┌─────────────┬─────────┬───────┬──────┬───────┐\n",
       "│ Salesperson ┆ Compact ┆ Sedan ┆ SUV  ┆ Truck │\n",
       "│ ---         ┆ ---     ┆ ---   ┆ ---  ┆ ---   │\n",
       "│ str         ┆ i64     ┆ i64   ┆ i64  ┆ i64   │\n",
       "╞═════════════╪═════════╪═══════╪══════╪═══════╡\n",
       "│ Ann         ┆ 22      ┆ 18    ┆ 15   ┆ 12    │\n",
       "│ Bob         ┆ 19      ┆ 12    ┆ 17   ┆ 20    │\n",
       "│ Doug        ┆ 20      ┆ 13    ┆ null ┆ 20    │\n",
       "│ Yolanda     ┆ 19      ┆ 8     ┆ 32   ┆ 15    │\n",
       "│ Xerxes      ┆ 12      ┆ 23    ┆ 18   ┆ 9     │\n",
       "└─────────────┴─────────┴───────┴──────┴───────┘"
      ]
     },
     "execution_count": 3,
     "metadata": {},
     "output_type": "execute_result"
    }
   ],
   "source": [
    "sales = pl.read_csv(\"./sample_data/auto_sales.csv\")\n",
    "sales"
   ]
  },
  {
   "cell_type": "markdown",
   "id": "4e71879a",
   "metadata": {
    "slideshow": {
     "slide_type": "slide"
    }
   },
   "source": [
    "## Stacking measurements of the same type/units\n",
    "\n",
    "<img src=\"https://github.com/WSU-DataScience/dsci_325_module_7_more_data_management_in_python/raw/main/img/stack_in_action.gif\" width=600>\n",
    "\n",
    "We can fix issues with informative column labels by stacking the data with `gather`"
   ]
  },
  {
   "cell_type": "markdown",
   "id": "20284ef5",
   "metadata": {
    "slideshow": {
     "slide_type": "slide"
    }
   },
   "source": [
    "## A Stack by any other name ...\n",
    "\n",
    "The act of stacking similar columns goes by various names.\n",
    "\n",
    "* `polars` calls this `unpivot` [previously `melt`]\n",
    "* JMP and Minitab call this *stack*\n",
    "* Wickham/`tidyr`/`dfply` call this *gather*\n",
    "\n",
    "I prefer **stack**, primarily because it makes it clear we are *melting*/*gathering* data vertically."
   ]
  },
  {
   "cell_type": "markdown",
   "id": "2182c99c-c6cf-4d95-b976-f866bdf76c19",
   "metadata": {},
   "source": [
    "### Example - Three months of auto sales.\n",
    "\n",
    "Suppose that we want to create a pivot table containing the total sales over three months of data.  We do this by\n",
    "\n",
    "1. Reading the data for april-june [already stacked],\n",
    "2. Verify that there are multiple rows per index (Salesperson), and\n",
    "3. Stacking the data with `unpivot` with `sum` to unstack and complete the total."
   ]
  },
  {
   "cell_type": "code",
   "execution_count": 37,
   "id": "17a106eb-56e3-4ffd-82df-28e8826bd771",
   "metadata": {},
   "outputs": [
    {
     "data": {
      "text/html": [
       "<div><style>\n",
       ".dataframe > thead > tr,\n",
       ".dataframe > tbody > tr {\n",
       "  text-align: right;\n",
       "  white-space: pre-wrap;\n",
       "}\n",
       "</style>\n",
       "<small>shape: (48, 3)</small><table border=\"1\" class=\"dataframe\"><thead><tr><th>Salesperson</th><th>CarType</th><th>QrtSales</th></tr><tr><td>str</td><td>str</td><td>i64</td></tr></thead><tbody><tr><td>&quot;Ann&quot;</td><td>&quot;Compact&quot;</td><td>22</td></tr><tr><td>&quot;Bob&quot;</td><td>&quot;Compact&quot;</td><td>19</td></tr><tr><td>&quot;Yolanda&quot;</td><td>&quot;Compact&quot;</td><td>19</td></tr><tr><td>&quot;Xerxes&quot;</td><td>&quot;Compact&quot;</td><td>12</td></tr><tr><td>&quot;Ann&quot;</td><td>&quot;Compact&quot;</td><td>18</td></tr><tr><td>&hellip;</td><td>&hellip;</td><td>&hellip;</td></tr><tr><td>&quot;Xerxes&quot;</td><td>&quot;Truck&quot;</td><td>8</td></tr><tr><td>&quot;Ann&quot;</td><td>&quot;Truck&quot;</td><td>12</td></tr><tr><td>&quot;Bob&quot;</td><td>&quot;Truck&quot;</td><td>24</td></tr><tr><td>&quot;Yolanda&quot;</td><td>&quot;Truck&quot;</td><td>17</td></tr><tr><td>&quot;Xerxes&quot;</td><td>&quot;Truck&quot;</td><td>9</td></tr></tbody></table></div>"
      ],
      "text/plain": [
       "shape: (48, 3)\n",
       "┌─────────────┬─────────┬──────────┐\n",
       "│ Salesperson ┆ CarType ┆ QrtSales │\n",
       "│ ---         ┆ ---     ┆ ---      │\n",
       "│ str         ┆ str     ┆ i64      │\n",
       "╞═════════════╪═════════╪══════════╡\n",
       "│ Ann         ┆ Compact ┆ 22       │\n",
       "│ Bob         ┆ Compact ┆ 19       │\n",
       "│ Yolanda     ┆ Compact ┆ 19       │\n",
       "│ Xerxes      ┆ Compact ┆ 12       │\n",
       "│ Ann         ┆ Compact ┆ 18       │\n",
       "│ …           ┆ …       ┆ …        │\n",
       "│ Xerxes      ┆ Truck   ┆ 8        │\n",
       "│ Ann         ┆ Truck   ┆ 12       │\n",
       "│ Bob         ┆ Truck   ┆ 24       │\n",
       "│ Yolanda     ┆ Truck   ┆ 17       │\n",
       "│ Xerxes      ┆ Truck   ┆ 9        │\n",
       "└─────────────┴─────────┴──────────┘"
      ]
     },
     "execution_count": 37,
     "metadata": {},
     "output_type": "execute_result"
    }
   ],
   "source": [
    "auto_sales_apr_june = pl.read_csv('./sample_data/combined_auto_sales_apr_to_jun.csv')\n",
    "auto_sales_apr_june"
   ]
  },
  {
   "cell_type": "markdown",
   "id": "f5b42653",
   "metadata": {
    "slideshow": {
     "slide_type": "slide"
    }
   },
   "source": [
    "## Stacking data in `polars` with `unpivot`\n",
    "\n",
    "Syntax: `df.unpivot(on, index, variable_name, value_name)`"
   ]
  },
  {
   "cell_type": "code",
   "execution_count": 60,
   "id": "f49977cf",
   "metadata": {
    "slideshow": {
     "slide_type": "fragment"
    }
   },
   "outputs": [
    {
     "data": {
      "text/html": [
       "<div><style>\n",
       ".dataframe > thead > tr,\n",
       ".dataframe > tbody > tr {\n",
       "  text-align: right;\n",
       "  white-space: pre-wrap;\n",
       "}\n",
       "</style>\n",
       "<small>shape: (20, 3)</small><table border=\"1\" class=\"dataframe\"><thead><tr><th>Salesperson</th><th>CarType</th><th>QrtSales</th></tr><tr><td>str</td><td>str</td><td>i64</td></tr></thead><tbody><tr><td>&quot;Ann&quot;</td><td>&quot;Compact&quot;</td><td>22</td></tr><tr><td>&quot;Bob&quot;</td><td>&quot;Compact&quot;</td><td>19</td></tr><tr><td>&quot;Doug&quot;</td><td>&quot;Compact&quot;</td><td>20</td></tr><tr><td>&quot;Yolanda&quot;</td><td>&quot;Compact&quot;</td><td>19</td></tr><tr><td>&quot;Xerxes&quot;</td><td>&quot;Compact&quot;</td><td>12</td></tr><tr><td>&hellip;</td><td>&hellip;</td><td>&hellip;</td></tr><tr><td>&quot;Ann&quot;</td><td>&quot;Truck&quot;</td><td>12</td></tr><tr><td>&quot;Bob&quot;</td><td>&quot;Truck&quot;</td><td>20</td></tr><tr><td>&quot;Doug&quot;</td><td>&quot;Truck&quot;</td><td>20</td></tr><tr><td>&quot;Yolanda&quot;</td><td>&quot;Truck&quot;</td><td>15</td></tr><tr><td>&quot;Xerxes&quot;</td><td>&quot;Truck&quot;</td><td>9</td></tr></tbody></table></div>"
      ],
      "text/plain": [
       "shape: (20, 3)\n",
       "┌─────────────┬─────────┬──────────┐\n",
       "│ Salesperson ┆ CarType ┆ QrtSales │\n",
       "│ ---         ┆ ---     ┆ ---      │\n",
       "│ str         ┆ str     ┆ i64      │\n",
       "╞═════════════╪═════════╪══════════╡\n",
       "│ Ann         ┆ Compact ┆ 22       │\n",
       "│ Bob         ┆ Compact ┆ 19       │\n",
       "│ Doug        ┆ Compact ┆ 20       │\n",
       "│ Yolanda     ┆ Compact ┆ 19       │\n",
       "│ Xerxes      ┆ Compact ┆ 12       │\n",
       "│ …           ┆ …       ┆ …        │\n",
       "│ Ann         ┆ Truck   ┆ 12       │\n",
       "│ Bob         ┆ Truck   ┆ 20       │\n",
       "│ Doug        ┆ Truck   ┆ 20       │\n",
       "│ Yolanda     ┆ Truck   ┆ 15       │\n",
       "│ Xerxes      ┆ Truck   ┆ 9        │\n",
       "└─────────────┴─────────┴──────────┘"
      ]
     },
     "execution_count": 60,
     "metadata": {},
     "output_type": "execute_result"
    }
   ],
   "source": [
    "sales_cols = ['Compact', 'Sedan', 'SUV', 'Truck']\n",
    "sales_stacked = (sales \n",
    "                 .unpivot(sales_cols, \n",
    "                          index='Salesperson', \n",
    "                          variable_name='CarType', \n",
    "                          value_name='QrtSales')\n",
    "                )\n",
    "sales_stacked"
   ]
  },
  {
   "cell_type": "markdown",
   "id": "20c22462",
   "metadata": {
    "slideshow": {
     "slide_type": "slide"
    }
   },
   "source": [
    "## Unstacking Data with `pivot`\n",
    "\n",
    "Syntax: `pivot(values, index, columns, aggregate_fn = 'first')`"
   ]
  },
  {
   "cell_type": "code",
   "execution_count": 11,
   "id": "2e3cbdaf",
   "metadata": {
    "slideshow": {
     "slide_type": "fragment"
    }
   },
   "outputs": [
    {
     "data": {
      "text/html": [
       "<div><style>\n",
       ".dataframe > thead > tr,\n",
       ".dataframe > tbody > tr {\n",
       "  text-align: right;\n",
       "  white-space: pre-wrap;\n",
       "}\n",
       "</style>\n",
       "<small>shape: (5, 5)</small><table border=\"1\" class=\"dataframe\"><thead><tr><th>Salesperson</th><th>Compact</th><th>Sedan</th><th>SUV</th><th>Truck</th></tr><tr><td>str</td><td>i64</td><td>i64</td><td>i64</td><td>i64</td></tr></thead><tbody><tr><td>&quot;Ann&quot;</td><td>22</td><td>18</td><td>15</td><td>12</td></tr><tr><td>&quot;Bob&quot;</td><td>19</td><td>12</td><td>17</td><td>20</td></tr><tr><td>&quot;Doug&quot;</td><td>20</td><td>13</td><td>null</td><td>20</td></tr><tr><td>&quot;Yolanda&quot;</td><td>19</td><td>8</td><td>32</td><td>15</td></tr><tr><td>&quot;Xerxes&quot;</td><td>12</td><td>23</td><td>18</td><td>9</td></tr></tbody></table></div>"
      ],
      "text/plain": [
       "shape: (5, 5)\n",
       "┌─────────────┬─────────┬───────┬──────┬───────┐\n",
       "│ Salesperson ┆ Compact ┆ Sedan ┆ SUV  ┆ Truck │\n",
       "│ ---         ┆ ---     ┆ ---   ┆ ---  ┆ ---   │\n",
       "│ str         ┆ i64     ┆ i64   ┆ i64  ┆ i64   │\n",
       "╞═════════════╪═════════╪═══════╪══════╪═══════╡\n",
       "│ Ann         ┆ 22      ┆ 18    ┆ 15   ┆ 12    │\n",
       "│ Bob         ┆ 19      ┆ 12    ┆ 17   ┆ 20    │\n",
       "│ Doug        ┆ 20      ┆ 13    ┆ null ┆ 20    │\n",
       "│ Yolanda     ┆ 19      ┆ 8     ┆ 32   ┆ 15    │\n",
       "│ Xerxes      ┆ 12      ┆ 23    ┆ 18   ┆ 9     │\n",
       "└─────────────┴─────────┴───────┴──────┴───────┘"
      ]
     },
     "execution_count": 11,
     "metadata": {},
     "output_type": "execute_result"
    }
   ],
   "source": [
    "(sales_stacked\n",
    " .pivot('CarType', \n",
    "        index = 'Salesperson', \n",
    "        values = 'QrtSales')\n",
    ")"
   ]
  },
  {
   "cell_type": "markdown",
   "id": "da299462",
   "metadata": {
    "slideshow": {
     "slide_type": "slide"
    }
   },
   "source": [
    "## Safely STACK then UNSTACK\n",
    "\n",
    "\n",
    "If we want to ensure we can unstack after stacking,\n",
    "\n",
    "* Add an `ID`/`index` column of unique values\n",
    "* Use this column as one of the index columns.\n",
    "* Use `'first'` as the `aggregation_fn`.\n"
   ]
  },
  {
   "cell_type": "code",
   "execution_count": 48,
   "id": "abccd8e8",
   "metadata": {},
   "outputs": [
    {
     "ename": "AttributeError",
     "evalue": "module 'polars' has no attribute 'sort'",
     "output_type": "error",
     "traceback": [
      "\u001b[0;31m---------------------------------------------------------------------------\u001b[0m",
      "\u001b[0;31mAttributeError\u001b[0m                            Traceback (most recent call last)",
      "Cell \u001b[0;32mIn[48], line 2\u001b[0m\n\u001b[1;32m      1\u001b[0m (sales \n\u001b[0;32m----> 2\u001b[0m  \u001b[38;5;241m.\u001b[39mwith_columns(ID \u001b[38;5;241m=\u001b[39m \u001b[43mpl\u001b[49m\u001b[38;5;241;43m.\u001b[39;49m\u001b[43msort\u001b[49m(\u001b[38;5;241m0\u001b[39m, \u001b[38;5;28mlen\u001b[39m(sales)))\n\u001b[1;32m      3\u001b[0m  \u001b[38;5;241m.\u001b[39munpivot([\u001b[38;5;124m'\u001b[39m\u001b[38;5;124mID\u001b[39m\u001b[38;5;124m'\u001b[39m, \u001b[38;5;124m'\u001b[39m\u001b[38;5;124mSalesperson\u001b[39m\u001b[38;5;124m'\u001b[39m], sales_cols, \u001b[38;5;124m\"\u001b[39m\u001b[38;5;124mCarType\u001b[39m\u001b[38;5;124m\"\u001b[39m,\u001b[38;5;124m\"\u001b[39m\u001b[38;5;124mQrtSales\u001b[39m\u001b[38;5;124m\"\u001b[39m)\n\u001b[1;32m      4\u001b[0m  \u001b[38;5;241m.\u001b[39mpivot(\u001b[38;5;124m'\u001b[39m\u001b[38;5;124mQrtSales\u001b[39m\u001b[38;5;124m'\u001b[39m, [\u001b[38;5;124m'\u001b[39m\u001b[38;5;124mID\u001b[39m\u001b[38;5;124m'\u001b[39m,\u001b[38;5;124m'\u001b[39m\u001b[38;5;124mSalesperson\u001b[39m\u001b[38;5;124m'\u001b[39m], \u001b[38;5;124m'\u001b[39m\u001b[38;5;124mCarType\u001b[39m\u001b[38;5;124m'\u001b[39m)\n\u001b[1;32m      5\u001b[0m )\n",
      "File \u001b[0;32m/opt/anaconda3/envs/polars/lib/python3.12/site-packages/polars/__init__.py:414\u001b[0m, in \u001b[0;36m__getattr__\u001b[0;34m(name)\u001b[0m\n\u001b[1;32m    411\u001b[0m     \u001b[38;5;28;01mreturn\u001b[39;00m \u001b[38;5;28mgetattr\u001b[39m(dtgroup, name)\n\u001b[1;32m    413\u001b[0m msg \u001b[38;5;241m=\u001b[39m \u001b[38;5;124mf\u001b[39m\u001b[38;5;124m\"\u001b[39m\u001b[38;5;124mmodule \u001b[39m\u001b[38;5;132;01m{\u001b[39;00m\u001b[38;5;18m__name__\u001b[39m\u001b[38;5;132;01m!r}\u001b[39;00m\u001b[38;5;124m has no attribute \u001b[39m\u001b[38;5;132;01m{\u001b[39;00mname\u001b[38;5;132;01m!r}\u001b[39;00m\u001b[38;5;124m\"\u001b[39m\n\u001b[0;32m--> 414\u001b[0m \u001b[38;5;28;01mraise\u001b[39;00m \u001b[38;5;167;01mAttributeError\u001b[39;00m(msg)\n",
      "\u001b[0;31mAttributeError\u001b[0m: module 'polars' has no attribute 'sort'"
     ]
    }
   ],
   "source": [
    "(sales \n",
    " .with_columns(ID = pl.sort(0, len(sales)))\n",
    " .unpivot(['ID', 'Salesperson'], sales_cols, \"CarType\",\"QrtSales\")\n",
    " .pivot('QrtSales', ['ID','Salesperson'], 'CarType')\n",
    ")"
   ]
  },
  {
   "cell_type": "markdown",
   "id": "5c8cf5c0-f680-4be2-8373-8f01bff29db5",
   "metadata": {},
   "source": [
    "## Aggregating with `pivot` for non-unique entries\n",
    "\n",
    "Sometimes, we want to pivot on data with more than one row per `index`.  In this case, we must provide a summary function that is used to aggregate the non-unique values into a single entry."
   ]
  },
  {
   "cell_type": "markdown",
   "id": "b8dbae8a-b9da-4a25-b1e1-020d1923f6ed",
   "metadata": {},
   "source": [
    "### Examples - Using `pivot` to total three month of data\n",
    "\n",
    "The file `combined_auto_sales_apr_to_jun.csv` contains three months of data, which means there are up to three rows per `Salesperson`.  "
   ]
  },
  {
   "cell_type": "code",
   "execution_count": 43,
   "id": "a6069481-03ae-4330-a1e0-b11741cd7c41",
   "metadata": {},
   "outputs": [
    {
     "data": {
      "text/html": [
       "<div><style>\n",
       ".dataframe > thead > tr,\n",
       ".dataframe > tbody > tr {\n",
       "  text-align: right;\n",
       "  white-space: pre-wrap;\n",
       "}\n",
       "</style>\n",
       "<small>shape: (48, 3)</small><table border=\"1\" class=\"dataframe\"><thead><tr><th>Salesperson</th><th>CarType</th><th>QrtSales</th></tr><tr><td>str</td><td>str</td><td>i64</td></tr></thead><tbody><tr><td>&quot;Ann&quot;</td><td>&quot;Compact&quot;</td><td>22</td></tr><tr><td>&quot;Bob&quot;</td><td>&quot;Compact&quot;</td><td>19</td></tr><tr><td>&quot;Yolanda&quot;</td><td>&quot;Compact&quot;</td><td>19</td></tr><tr><td>&quot;Xerxes&quot;</td><td>&quot;Compact&quot;</td><td>12</td></tr><tr><td>&quot;Ann&quot;</td><td>&quot;Compact&quot;</td><td>18</td></tr><tr><td>&hellip;</td><td>&hellip;</td><td>&hellip;</td></tr><tr><td>&quot;Xerxes&quot;</td><td>&quot;Truck&quot;</td><td>8</td></tr><tr><td>&quot;Ann&quot;</td><td>&quot;Truck&quot;</td><td>12</td></tr><tr><td>&quot;Bob&quot;</td><td>&quot;Truck&quot;</td><td>24</td></tr><tr><td>&quot;Yolanda&quot;</td><td>&quot;Truck&quot;</td><td>17</td></tr><tr><td>&quot;Xerxes&quot;</td><td>&quot;Truck&quot;</td><td>9</td></tr></tbody></table></div>"
      ],
      "text/plain": [
       "shape: (48, 3)\n",
       "┌─────────────┬─────────┬──────────┐\n",
       "│ Salesperson ┆ CarType ┆ QrtSales │\n",
       "│ ---         ┆ ---     ┆ ---      │\n",
       "│ str         ┆ str     ┆ i64      │\n",
       "╞═════════════╪═════════╪══════════╡\n",
       "│ Ann         ┆ Compact ┆ 22       │\n",
       "│ Bob         ┆ Compact ┆ 19       │\n",
       "│ Yolanda     ┆ Compact ┆ 19       │\n",
       "│ Xerxes      ┆ Compact ┆ 12       │\n",
       "│ Ann         ┆ Compact ┆ 18       │\n",
       "│ …           ┆ …       ┆ …        │\n",
       "│ Xerxes      ┆ Truck   ┆ 8        │\n",
       "│ Ann         ┆ Truck   ┆ 12       │\n",
       "│ Bob         ┆ Truck   ┆ 24       │\n",
       "│ Yolanda     ┆ Truck   ┆ 17       │\n",
       "│ Xerxes      ┆ Truck   ┆ 9        │\n",
       "└─────────────┴─────────┴──────────┘"
      ]
     },
     "execution_count": 43,
     "metadata": {},
     "output_type": "execute_result"
    }
   ],
   "source": [
    "combined_auto_sales = pl.read_csv('./sample_data/combined_auto_sales_apr_to_jun.csv')\n",
    "\n",
    "combined_auto_sales"
   ]
  },
  {
   "cell_type": "markdown",
   "id": "2ca0a346-10a5-4a0b-99a8-00bf3f0c91f9",
   "metadata": {},
   "source": [
    "In this case, a `pivot` results in an exception letting us know there are non-unique entries."
   ]
  },
  {
   "cell_type": "code",
   "execution_count": 50,
   "id": "1946f3cc-e9d8-4277-b897-432ac29dbc69",
   "metadata": {},
   "outputs": [
    {
     "ename": "ComputeError",
     "evalue": "found multiple elements in the same group, please specify an aggregation function",
     "output_type": "error",
     "traceback": [
      "\u001b[0;31m---------------------------------------------------------------------------\u001b[0m",
      "\u001b[0;31mComputeError\u001b[0m                              Traceback (most recent call last)",
      "\u001b[0;32m/var/folders/k4/_tynxgnx6l39rvqmb6z2_mmh0000gn/T/ipykernel_67854/2359088925.py\u001b[0m in \u001b[0;36m?\u001b[0;34m()\u001b[0m\n\u001b[1;32m      1\u001b[0m (combined_auto_sales\n\u001b[0;32m----> 2\u001b[0;31m  .pivot('CarType', \n\u001b[0m\u001b[1;32m      3\u001b[0m         \u001b[0mindex\u001b[0m \u001b[0;34m=\u001b[0m \u001b[0;34m'Salesperson'\u001b[0m\u001b[0;34m,\u001b[0m\u001b[0;34m\u001b[0m\u001b[0;34m\u001b[0m\u001b[0m\n\u001b[1;32m      4\u001b[0m         \u001b[0mvalues\u001b[0m \u001b[0;34m=\u001b[0m \u001b[0;34m'QrtSales'\u001b[0m\u001b[0;34m)\u001b[0m\u001b[0;34m\u001b[0m\u001b[0;34m\u001b[0m\u001b[0m\n\u001b[1;32m      5\u001b[0m \u001b[0;34m)\u001b[0m\u001b[0;34m\u001b[0m\u001b[0;34m\u001b[0m\u001b[0m\n",
      "\u001b[0;32m/opt/anaconda3/envs/polars/lib/python3.12/site-packages/polars/_utils/deprecation.py\u001b[0m in \u001b[0;36m?\u001b[0;34m(*args, **kwargs)\u001b[0m\n\u001b[1;32m     87\u001b[0m         \u001b[0;32mdef\u001b[0m \u001b[0mwrapper\u001b[0m\u001b[0;34m(\u001b[0m\u001b[0;34m*\u001b[0m\u001b[0margs\u001b[0m\u001b[0;34m:\u001b[0m \u001b[0mP\u001b[0m\u001b[0;34m.\u001b[0m\u001b[0margs\u001b[0m\u001b[0;34m,\u001b[0m \u001b[0;34m**\u001b[0m\u001b[0mkwargs\u001b[0m\u001b[0;34m:\u001b[0m \u001b[0mP\u001b[0m\u001b[0;34m.\u001b[0m\u001b[0mkwargs\u001b[0m\u001b[0;34m)\u001b[0m \u001b[0;34m->\u001b[0m \u001b[0mT\u001b[0m\u001b[0;34m:\u001b[0m\u001b[0;34m\u001b[0m\u001b[0;34m\u001b[0m\u001b[0m\n\u001b[1;32m     88\u001b[0m             _rename_keyword_argument(\n\u001b[1;32m     89\u001b[0m                 \u001b[0mold_name\u001b[0m\u001b[0;34m,\u001b[0m \u001b[0mnew_name\u001b[0m\u001b[0;34m,\u001b[0m \u001b[0mkwargs\u001b[0m\u001b[0;34m,\u001b[0m \u001b[0mfunction\u001b[0m\u001b[0;34m.\u001b[0m\u001b[0m__qualname__\u001b[0m\u001b[0;34m,\u001b[0m \u001b[0mversion\u001b[0m\u001b[0;34m\u001b[0m\u001b[0;34m\u001b[0m\u001b[0m\n\u001b[1;32m     90\u001b[0m             \u001b[0;34m)\u001b[0m\u001b[0;34m\u001b[0m\u001b[0;34m\u001b[0m\u001b[0m\n\u001b[0;32m---> 91\u001b[0;31m             \u001b[0;32mreturn\u001b[0m \u001b[0mfunction\u001b[0m\u001b[0;34m(\u001b[0m\u001b[0;34m*\u001b[0m\u001b[0margs\u001b[0m\u001b[0;34m,\u001b[0m \u001b[0;34m**\u001b[0m\u001b[0mkwargs\u001b[0m\u001b[0;34m)\u001b[0m\u001b[0;34m\u001b[0m\u001b[0;34m\u001b[0m\u001b[0m\n\u001b[0m",
      "\u001b[0;32m/opt/anaconda3/envs/polars/lib/python3.12/site-packages/polars/dataframe/frame.py\u001b[0m in \u001b[0;36m?\u001b[0;34m(self, on, index, values, aggregate_function, maintain_order, sort_columns, separator)\u001b[0m\n\u001b[1;32m   8028\u001b[0m         \u001b[0;32melse\u001b[0m\u001b[0;34m:\u001b[0m\u001b[0;34m\u001b[0m\u001b[0;34m\u001b[0m\u001b[0m\n\u001b[1;32m   8029\u001b[0m             \u001b[0maggregate_expr\u001b[0m \u001b[0;34m=\u001b[0m \u001b[0maggregate_function\u001b[0m\u001b[0;34m.\u001b[0m\u001b[0m_pyexpr\u001b[0m\u001b[0;34m\u001b[0m\u001b[0;34m\u001b[0m\u001b[0m\n\u001b[1;32m   8030\u001b[0m \u001b[0;34m\u001b[0m\u001b[0m\n\u001b[1;32m   8031\u001b[0m         return self._from_pydf(\n\u001b[0;32m-> 8032\u001b[0;31m             self._df.pivot_expr(\n\u001b[0m\u001b[1;32m   8033\u001b[0m                 \u001b[0mon\u001b[0m\u001b[0;34m,\u001b[0m\u001b[0;34m\u001b[0m\u001b[0;34m\u001b[0m\u001b[0m\n\u001b[1;32m   8034\u001b[0m                 \u001b[0mindex\u001b[0m\u001b[0;34m,\u001b[0m\u001b[0;34m\u001b[0m\u001b[0;34m\u001b[0m\u001b[0m\n\u001b[1;32m   8035\u001b[0m                 \u001b[0mvalues\u001b[0m\u001b[0;34m,\u001b[0m\u001b[0;34m\u001b[0m\u001b[0;34m\u001b[0m\u001b[0m\n",
      "\u001b[0;31mComputeError\u001b[0m: found multiple elements in the same group, please specify an aggregation function"
     ]
    }
   ],
   "source": [
    "(combined_auto_sales\n",
    " .pivot('CarType', \n",
    "        index = 'Salesperson', \n",
    "        values = 'QrtSales')\n",
    ")"
   ]
  },
  {
   "cell_type": "markdown",
   "id": "9842039b-52b8-4eb9-8496-79c8065acb1e",
   "metadata": {},
   "source": [
    "We correct this issue by setting `aggregate_function='sum'` to compute the total overall duplicate rows"
   ]
  },
  {
   "cell_type": "code",
   "execution_count": 52,
   "id": "7e16e111-c08a-44d5-a6f8-12bb7ae437fb",
   "metadata": {},
   "outputs": [
    {
     "data": {
      "text/html": [
       "<div><style>\n",
       ".dataframe > thead > tr,\n",
       ".dataframe > tbody > tr {\n",
       "  text-align: right;\n",
       "  white-space: pre-wrap;\n",
       "}\n",
       "</style>\n",
       "<small>shape: (4, 5)</small><table border=\"1\" class=\"dataframe\"><thead><tr><th>Salesperson</th><th>Compact</th><th>Sedan</th><th>SUV</th><th>Truck</th></tr><tr><td>str</td><td>i64</td><td>i64</td><td>i64</td><td>i64</td></tr></thead><tbody><tr><td>&quot;Ann&quot;</td><td>62</td><td>55</td><td>47</td><td>36</td></tr><tr><td>&quot;Bob&quot;</td><td>59</td><td>41</td><td>31</td><td>67</td></tr><tr><td>&quot;Yolanda&quot;</td><td>59</td><td>27</td><td>82</td><td>51</td></tr><tr><td>&quot;Xerxes&quot;</td><td>35</td><td>75</td><td>54</td><td>26</td></tr></tbody></table></div>"
      ],
      "text/plain": [
       "shape: (4, 5)\n",
       "┌─────────────┬─────────┬───────┬─────┬───────┐\n",
       "│ Salesperson ┆ Compact ┆ Sedan ┆ SUV ┆ Truck │\n",
       "│ ---         ┆ ---     ┆ ---   ┆ --- ┆ ---   │\n",
       "│ str         ┆ i64     ┆ i64   ┆ i64 ┆ i64   │\n",
       "╞═════════════╪═════════╪═══════╪═════╪═══════╡\n",
       "│ Ann         ┆ 62      ┆ 55    ┆ 47  ┆ 36    │\n",
       "│ Bob         ┆ 59      ┆ 41    ┆ 31  ┆ 67    │\n",
       "│ Yolanda     ┆ 59      ┆ 27    ┆ 82  ┆ 51    │\n",
       "│ Xerxes      ┆ 35      ┆ 75    ┆ 54  ┆ 26    │\n",
       "└─────────────┴─────────┴───────┴─────┴───────┘"
      ]
     },
     "execution_count": 52,
     "metadata": {},
     "output_type": "execute_result"
    }
   ],
   "source": [
    "(combined_auto_sales\n",
    " .pivot('CarType', \n",
    "        index = 'Salesperson', \n",
    "        values = 'QrtSales',\n",
    "       aggregate_function='sum'\n",
    "       )\n",
    ")"
   ]
  },
  {
   "cell_type": "markdown",
   "id": "9b72120f-03af-4072-9584-cc5aee735084",
   "metadata": {},
   "source": [
    "While we could do this manually using `group_by` + `agg` + `unpivot`, this approach saves us two step!"
   ]
  },
  {
   "cell_type": "code",
   "execution_count": 57,
   "id": "cdb9a4c9-6c71-451e-ad8e-455f245e3da5",
   "metadata": {},
   "outputs": [
    {
     "data": {
      "text/html": [
       "<div><style>\n",
       ".dataframe > thead > tr,\n",
       ".dataframe > tbody > tr {\n",
       "  text-align: right;\n",
       "  white-space: pre-wrap;\n",
       "}\n",
       "</style>\n",
       "<small>shape: (4, 5)</small><table border=\"1\" class=\"dataframe\"><thead><tr><th>Salesperson</th><th>Sedan</th><th>SUV</th><th>Truck</th><th>Compact</th></tr><tr><td>str</td><td>i64</td><td>i64</td><td>i64</td><td>i64</td></tr></thead><tbody><tr><td>&quot;Yolanda&quot;</td><td>27</td><td>82</td><td>51</td><td>59</td></tr><tr><td>&quot;Ann&quot;</td><td>55</td><td>47</td><td>36</td><td>62</td></tr><tr><td>&quot;Xerxes&quot;</td><td>75</td><td>54</td><td>26</td><td>35</td></tr><tr><td>&quot;Bob&quot;</td><td>41</td><td>31</td><td>67</td><td>59</td></tr></tbody></table></div>"
      ],
      "text/plain": [
       "shape: (4, 5)\n",
       "┌─────────────┬───────┬─────┬───────┬─────────┐\n",
       "│ Salesperson ┆ Sedan ┆ SUV ┆ Truck ┆ Compact │\n",
       "│ ---         ┆ ---   ┆ --- ┆ ---   ┆ ---     │\n",
       "│ str         ┆ i64   ┆ i64 ┆ i64   ┆ i64     │\n",
       "╞═════════════╪═══════╪═════╪═══════╪═════════╡\n",
       "│ Yolanda     ┆ 27    ┆ 82  ┆ 51    ┆ 59      │\n",
       "│ Ann         ┆ 55    ┆ 47  ┆ 36    ┆ 62      │\n",
       "│ Xerxes      ┆ 75    ┆ 54  ┆ 26    ┆ 35      │\n",
       "│ Bob         ┆ 41    ┆ 31  ┆ 67    ┆ 59      │\n",
       "└─────────────┴───────┴─────┴───────┴─────────┘"
      ]
     },
     "execution_count": 57,
     "metadata": {},
     "output_type": "execute_result"
    }
   ],
   "source": [
    "# Brute force approach ==> requires two extra steps.\n",
    "\n",
    "(combined_auto_sales\n",
    " .group_by(['Salesperson', 'CarType'])\n",
    " .agg(QrtSales = pl.col('QrtSales').sum())\n",
    " .pivot('CarType', \n",
    "        index = 'Salesperson', \n",
    "        values = 'QrtSales'\n",
    "       )\n",
    ")"
   ]
  },
  {
   "cell_type": "markdown",
   "id": "549eb28b",
   "metadata": {
    "jp-MarkdownHeadingCollapsed": true,
    "slideshow": {
     "slide_type": "slide"
    }
   },
   "source": [
    "## Why Stack?\n",
    "\n",
    "* Perform transformations on many columns.\n",
    "* Fix problems with the Golden Rule"
   ]
  },
  {
   "cell_type": "markdown",
   "id": "07893fc1",
   "metadata": {
    "slideshow": {
     "slide_type": "slide"
    }
   },
   "source": [
    "## Example - Switching Units on All Sales\n",
    "\n",
    "Suppose your manager wants these numbers in *monthly* sales.  You could\n",
    "\n",
    "1. Adjust each column with a separate formula\n",
    "2. Stack --> Transform once --> Unstack"
   ]
  },
  {
   "cell_type": "markdown",
   "id": "11e1ae0c",
   "metadata": {
    "slideshow": {
     "slide_type": "slide"
    }
   },
   "source": [
    "#### Method 1 - Brute-force Column Transformations"
   ]
  },
  {
   "cell_type": "code",
   "execution_count": 67,
   "id": "498bb025",
   "metadata": {
    "slideshow": {
     "slide_type": "fragment"
    }
   },
   "outputs": [
    {
     "data": {
      "text/html": [
       "<div><style>\n",
       ".dataframe > thead > tr,\n",
       ".dataframe > tbody > tr {\n",
       "  text-align: right;\n",
       "  white-space: pre-wrap;\n",
       "}\n",
       "</style>\n",
       "<small>shape: (5, 5)</small><table border=\"1\" class=\"dataframe\"><thead><tr><th>Salesperson</th><th>Compact</th><th>Sedan</th><th>SUV</th><th>Truck</th></tr><tr><td>str</td><td>f64</td><td>f64</td><td>f64</td><td>f64</td></tr></thead><tbody><tr><td>&quot;Ann&quot;</td><td>7.333333</td><td>6.0</td><td>5.0</td><td>4.0</td></tr><tr><td>&quot;Bob&quot;</td><td>6.333333</td><td>4.0</td><td>5.666667</td><td>6.666667</td></tr><tr><td>&quot;Doug&quot;</td><td>6.666667</td><td>4.333333</td><td>null</td><td>6.666667</td></tr><tr><td>&quot;Yolanda&quot;</td><td>6.333333</td><td>2.666667</td><td>10.666667</td><td>5.0</td></tr><tr><td>&quot;Xerxes&quot;</td><td>4.0</td><td>7.666667</td><td>6.0</td><td>3.0</td></tr></tbody></table></div>"
      ],
      "text/plain": [
       "shape: (5, 5)\n",
       "┌─────────────┬──────────┬──────────┬───────────┬──────────┐\n",
       "│ Salesperson ┆ Compact  ┆ Sedan    ┆ SUV       ┆ Truck    │\n",
       "│ ---         ┆ ---      ┆ ---      ┆ ---       ┆ ---      │\n",
       "│ str         ┆ f64      ┆ f64      ┆ f64       ┆ f64      │\n",
       "╞═════════════╪══════════╪══════════╪═══════════╪══════════╡\n",
       "│ Ann         ┆ 7.333333 ┆ 6.0      ┆ 5.0       ┆ 4.0      │\n",
       "│ Bob         ┆ 6.333333 ┆ 4.0      ┆ 5.666667  ┆ 6.666667 │\n",
       "│ Doug        ┆ 6.666667 ┆ 4.333333 ┆ null      ┆ 6.666667 │\n",
       "│ Yolanda     ┆ 6.333333 ┆ 2.666667 ┆ 10.666667 ┆ 5.0      │\n",
       "│ Xerxes      ┆ 4.0      ┆ 7.666667 ┆ 6.0       ┆ 3.0      │\n",
       "└─────────────┴──────────┴──────────┴───────────┴──────────┘"
      ]
     },
     "execution_count": 67,
     "metadata": {},
     "output_type": "execute_result"
    }
   ],
   "source": [
    "pl.Config.with_columns_kwargs = True\n",
    "\n",
    "(sales\n",
    " .with_columns(Compact = pl.col('Compact')/3,\n",
    "                SUV = pl.col('SUV')/3,\n",
    "                Sedan = pl.col('Sedan')/3,\n",
    "                Truck = pl.col('Truck')/3,\n",
    "               )\n",
    ")"
   ]
  },
  {
   "cell_type": "markdown",
   "id": "eac96a4b",
   "metadata": {
    "slideshow": {
     "slide_type": "slide"
    }
   },
   "source": [
    "#### Method 2 - Stack-Transform-Unstack"
   ]
  },
  {
   "cell_type": "code",
   "execution_count": 65,
   "id": "1fca7224",
   "metadata": {
    "slideshow": {
     "slide_type": "fragment"
    }
   },
   "outputs": [
    {
     "data": {
      "text/html": [
       "<div><style>\n",
       ".dataframe > thead > tr,\n",
       ".dataframe > tbody > tr {\n",
       "  text-align: right;\n",
       "  white-space: pre-wrap;\n",
       "}\n",
       "</style>\n",
       "<small>shape: (5, 5)</small><table border=\"1\" class=\"dataframe\"><thead><tr><th>Salesperson</th><th>Compact</th><th>Sedan</th><th>SUV</th><th>Truck</th></tr><tr><td>str</td><td>f64</td><td>f64</td><td>f64</td><td>f64</td></tr></thead><tbody><tr><td>&quot;Ann&quot;</td><td>7.333333</td><td>6.0</td><td>5.0</td><td>4.0</td></tr><tr><td>&quot;Bob&quot;</td><td>6.333333</td><td>4.0</td><td>5.666667</td><td>6.666667</td></tr><tr><td>&quot;Doug&quot;</td><td>6.666667</td><td>4.333333</td><td>null</td><td>6.666667</td></tr><tr><td>&quot;Yolanda&quot;</td><td>6.333333</td><td>2.666667</td><td>10.666667</td><td>5.0</td></tr><tr><td>&quot;Xerxes&quot;</td><td>4.0</td><td>7.666667</td><td>6.0</td><td>3.0</td></tr></tbody></table></div>"
      ],
      "text/plain": [
       "shape: (5, 5)\n",
       "┌─────────────┬──────────┬──────────┬───────────┬──────────┐\n",
       "│ Salesperson ┆ Compact  ┆ Sedan    ┆ SUV       ┆ Truck    │\n",
       "│ ---         ┆ ---      ┆ ---      ┆ ---       ┆ ---      │\n",
       "│ str         ┆ f64      ┆ f64      ┆ f64       ┆ f64      │\n",
       "╞═════════════╪══════════╪══════════╪═══════════╪══════════╡\n",
       "│ Ann         ┆ 7.333333 ┆ 6.0      ┆ 5.0       ┆ 4.0      │\n",
       "│ Bob         ┆ 6.333333 ┆ 4.0      ┆ 5.666667  ┆ 6.666667 │\n",
       "│ Doug        ┆ 6.666667 ┆ 4.333333 ┆ null      ┆ 6.666667 │\n",
       "│ Yolanda     ┆ 6.333333 ┆ 2.666667 ┆ 10.666667 ┆ 5.0      │\n",
       "│ Xerxes      ┆ 4.0      ┆ 7.666667 ┆ 6.0       ┆ 3.0      │\n",
       "└─────────────┴──────────┴──────────┴───────────┴──────────┘"
      ]
     },
     "execution_count": 65,
     "metadata": {},
     "output_type": "execute_result"
    }
   ],
   "source": [
    "(sales \n",
    " .unpivot(sales_cols, \n",
    "         index='Salesperson', \n",
    "         variable_name='CarType', \n",
    "         value_name='QrtSales')\n",
    " .with_columns(MonSales = pl.col('QrtSales')/3)\n",
    " .drop('QrtSales')\n",
    " .pivot('CarType', \n",
    "        index = 'Salesperson', \n",
    "        values = 'MonSales'\n",
    "       )\n",
    ")"
   ]
  },
  {
   "cell_type": "markdown",
   "id": "2ed50465-bad8-4562-af7d-917d192c515c",
   "metadata": {},
   "source": [
    "#### Method 3 - Unpack a `dict` comprehension\n",
    "\n",
    "We will cover this more indepth in a future DSCI 326 module"
   ]
  },
  {
   "cell_type": "code",
   "execution_count": 71,
   "id": "3dd1804a-dfc1-4c89-8c5a-384bc60c42be",
   "metadata": {},
   "outputs": [
    {
     "data": {
      "text/plain": [
       "['Compact', 'Sedan', 'SUV', 'Truck']"
      ]
     },
     "execution_count": 71,
     "metadata": {},
     "output_type": "execute_result"
    }
   ],
   "source": [
    "sales_cols = [col for col in sales.columns if col != 'Salesperson']\n",
    "\n",
    "sales_cols"
   ]
  },
  {
   "cell_type": "code",
   "execution_count": 74,
   "id": "70364760-c501-46c0-b702-4e1656a38b38",
   "metadata": {},
   "outputs": [
    {
     "data": {
      "text/html": [
       "<div><style>\n",
       ".dataframe > thead > tr,\n",
       ".dataframe > tbody > tr {\n",
       "  text-align: right;\n",
       "  white-space: pre-wrap;\n",
       "}\n",
       "</style>\n",
       "<small>shape: (5, 5)</small><table border=\"1\" class=\"dataframe\"><thead><tr><th>Salesperson</th><th>Compact</th><th>Sedan</th><th>SUV</th><th>Truck</th></tr><tr><td>str</td><td>f64</td><td>f64</td><td>f64</td><td>f64</td></tr></thead><tbody><tr><td>&quot;Ann&quot;</td><td>7.333333</td><td>6.0</td><td>5.0</td><td>4.0</td></tr><tr><td>&quot;Bob&quot;</td><td>6.333333</td><td>4.0</td><td>5.666667</td><td>6.666667</td></tr><tr><td>&quot;Doug&quot;</td><td>6.666667</td><td>4.333333</td><td>null</td><td>6.666667</td></tr><tr><td>&quot;Yolanda&quot;</td><td>6.333333</td><td>2.666667</td><td>10.666667</td><td>5.0</td></tr><tr><td>&quot;Xerxes&quot;</td><td>4.0</td><td>7.666667</td><td>6.0</td><td>3.0</td></tr></tbody></table></div>"
      ],
      "text/plain": [
       "shape: (5, 5)\n",
       "┌─────────────┬──────────┬──────────┬───────────┬──────────┐\n",
       "│ Salesperson ┆ Compact  ┆ Sedan    ┆ SUV       ┆ Truck    │\n",
       "│ ---         ┆ ---      ┆ ---      ┆ ---       ┆ ---      │\n",
       "│ str         ┆ f64      ┆ f64      ┆ f64       ┆ f64      │\n",
       "╞═════════════╪══════════╪══════════╪═══════════╪══════════╡\n",
       "│ Ann         ┆ 7.333333 ┆ 6.0      ┆ 5.0       ┆ 4.0      │\n",
       "│ Bob         ┆ 6.333333 ┆ 4.0      ┆ 5.666667  ┆ 6.666667 │\n",
       "│ Doug        ┆ 6.666667 ┆ 4.333333 ┆ null      ┆ 6.666667 │\n",
       "│ Yolanda     ┆ 6.333333 ┆ 2.666667 ┆ 10.666667 ┆ 5.0      │\n",
       "│ Xerxes      ┆ 4.0      ┆ 7.666667 ┆ 6.0       ┆ 3.0      │\n",
       "└─────────────┴──────────┴──────────┴───────────┴──────────┘"
      ]
     },
     "execution_count": 74,
     "metadata": {},
     "output_type": "execute_result"
    }
   ],
   "source": [
    "(sales\n",
    " .with_columns(**{col:pl.col(col)/3 \n",
    "                  for col in sales_cols}\n",
    "               )\n",
    ")"
   ]
  },
  {
   "cell_type": "markdown",
   "id": "127b6caa",
   "metadata": {
    "slideshow": {
     "slide_type": "slide"
    }
   },
   "source": [
    "## Comparing the two methods\n",
    "\n",
    "**Method 1:**\n",
    "* More straight forward\n",
    "* Lots of repeated code\n",
    "* Doesn't scale ... imagine 100+ columns\n",
    "\n",
    "**Method 2:**\n",
    "* More complicated\n",
    "* Scales well $\\longrightarrow$ same code regardless of number of columns\n",
    "* Easier with more complicated transformations\n",
    "\n",
    "**Method 3:**\n",
    "* More abstract\n",
    "* By far the most sussinct"
   ]
  },
  {
   "cell_type": "markdown",
   "id": "4f7c1bd9",
   "metadata": {
    "slideshow": {
     "slide_type": "slide"
    }
   },
   "source": [
    "## <font color=\"red\"> Exercise 7.2.1 </font>\n",
    "    \n",
    "**Task:** Load the `Artwork.csv` data and use the Stack-Transform-Unstack trick to convert all measurements in cm to mm.\n",
    "\n",
    "**Hints.**\n",
    "1. You will need to fix the `dtypes` for some of the measurement columns by passing the `artwork_dtypes` to `pl.read_csv`.\n",
    "2. You will want to add an `ID` column to make the stack and unstack safe.\n",
    "3. You can use `cols.from_` and `cols.to` to get the list of columns needed in `melt`.\n",
    "4. `pivot` can't group by float columns, so you need to stack all measurements.\n",
    "5. To process only the `cm` columns, use a `pl.when(cond).then(expr).otherwise(expr)` expression.\n",
    "6. You should also replace the `cm` with `mm` in the label column (using the same trick in the last hint) before unstacking."
   ]
  },
  {
   "cell_type": "code",
   "execution_count": 25,
   "id": "51471266",
   "metadata": {},
   "outputs": [],
   "source": [
    "artwork_dtypes = {'Title': pl.datatypes.Utf8,\n",
    "                  'Artist': pl.datatypes.Utf8,\n",
    "                  'ConstituentID': pl.datatypes.Utf8,\n",
    "                  'ArtistBio': pl.datatypes.Utf8,\n",
    "                  'Nationality': pl.datatypes.Utf8,\n",
    "                  'BeginDate': pl.datatypes.Utf8,\n",
    "                  'EndDate': pl.datatypes.Utf8,\n",
    "                  'Gender': pl.datatypes.Utf8,\n",
    "                  'Date': pl.datatypes.Utf8,\n",
    "                  'Medium': pl.datatypes.Utf8,\n",
    "                  'Dimensions': pl.datatypes.Utf8,\n",
    "                  'CreditLine': pl.datatypes.Utf8,\n",
    "                  'AccessionNumber': pl.datatypes.Utf8,\n",
    "                  'Classification': pl.datatypes.Utf8,\n",
    "                  'Department': pl.datatypes.Utf8,\n",
    "                  'DateAcquired': pl.datatypes.Utf8,\n",
    "                  'Cataloged': pl.datatypes.Utf8,\n",
    "                  'ObjectID': pl.datatypes.Int64,\n",
    "                  'URL': pl.datatypes.Utf8,\n",
    "                  'ThumbnailURL': pl.datatypes.Utf8,\n",
    "                  'Circumference (cm)': pl.datatypes.Float64,\n",
    "                  'Depth (cm)': pl.datatypes.Float64,\n",
    "                  'Diameter (cm)': pl.datatypes.Float64,\n",
    "                  'Height (cm)': pl.datatypes.Float64,\n",
    "                  'Length (cm)': pl.datatypes.Float64,\n",
    "                  'Weight (kg)': pl.datatypes.Float64,\n",
    "                  'Width (cm)': pl.datatypes.Float64,\n",
    "                  'Seat Height (cm)': pl.datatypes.Float64,\n",
    "                  'Duration (sec.)': pl.datatypes.Float64}"
   ]
  },
  {
   "cell_type": "code",
   "execution_count": 31,
   "id": "b60ab44b",
   "metadata": {},
   "outputs": [],
   "source": [
    "# Your code here"
   ]
  }
 ],
 "metadata": {
  "celltoolbar": "Slideshow",
  "kernelspec": {
   "display_name": "Python 3 (ipykernel)",
   "language": "python",
   "name": "python3"
  },
  "language_info": {
   "codemirror_mode": {
    "name": "ipython",
    "version": 3
   },
   "file_extension": ".py",
   "mimetype": "text/x-python",
   "name": "python",
   "nbconvert_exporter": "python",
   "pygments_lexer": "ipython3",
   "version": "3.12.5"
  },
  "varInspector": {
   "cols": {
    "lenName": 16,
    "lenType": 16,
    "lenVar": 40
   },
   "kernels_config": {
    "python": {
     "delete_cmd_postfix": "",
     "delete_cmd_prefix": "del ",
     "library": "var_list.py",
     "varRefreshCmd": "print(var_dic_list())"
    },
    "r": {
     "delete_cmd_postfix": ") ",
     "delete_cmd_prefix": "rm(",
     "library": "var_list.r",
     "varRefreshCmd": "cat(var_dic_list()) "
    }
   },
   "types_to_exclude": [
    "module",
    "function",
    "builtin_function_or_method",
    "instance",
    "_Feature"
   ],
   "window_display": false
  }
 },
 "nbformat": 4,
 "nbformat_minor": 5
}
